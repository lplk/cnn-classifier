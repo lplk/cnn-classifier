{
 "cells": [
  {
   "cell_type": "markdown",
   "metadata": {},
   "source": [
    "# Dataset Exploration - Binary Image Classification\n",
    "\n",
    "Quick exploration of the image dataset before building the classifier. Need to understand what we're working with first."
   ]
  },
  {
   "cell_type": "code",
   "execution_count": 27,
   "metadata": {},
   "outputs": [],
   "source": [
    "import pandas as pd\n",
    "import numpy as np\n",
    "import torch\n",
    "import torch.nn as nn\n",
    "from torchvision.transforms import functional\n",
    "from torchvision import transforms\n",
    "import PIL\n",
    "import glob\n",
    "from torch.utils.data import Dataset, DataLoader\n",
    "import torch.optim as optim\n",
    "import matplotlib.pyplot as plt\n",
    "import random\n",
    "from PIL import Image\n",
    "import os"
   ]
  },
  {
   "cell_type": "markdown",
   "metadata": {},
   "source": [
    "## 1. Data Overview\n",
    "\n",
    "Let's see what we have - should be 100k training images and 20k test images."
   ]
  },
  {
   "cell_type": "code",
   "execution_count": 28,
   "metadata": {},
   "outputs": [
    {
     "name": "stdout",
     "output_type": "stream",
     "text": [
      "Training images: 100000\n",
      "Test images: 20000\n",
      "\n",
      "First few training files: ['000001.jpg', '000002.jpg', '000003.jpg', '000004.jpg', '000005.jpg']\n",
      "Last few training files: ['099996.jpg', '099997.jpg', '099998.jpg', '099999.jpg', '100000.jpg']\n"
     ]
    }
   ],
   "source": [
    "# Load image paths\n",
    "train_img_path = glob.glob(r\"C:\\Users\\felme\\Downloads\\ml_exercise_therapanacea\\data\\train_img\\*.jpg\")\n",
    "val_img_path = glob.glob(r\"C:\\Users\\felme\\Downloads\\ml_exercise_therapanacea\\data\\val_img\\*.jpg\")\n",
    "\n",
    "print(f\"Training images: {len(train_img_path)}\")\n",
    "print(f\"Test images: {len(val_img_path)}\")\n",
    "\n",
    "# Quick sanity check on filenames\n",
    "print(f\"\\nFirst few training files: {[os.path.basename(p) for p in train_img_path[:5]]}\")\n",
    "print(f\"Last few training files: {[os.path.basename(p) for p in train_img_path[-5:]]}\")"
   ]
  },
  {
   "cell_type": "markdown",
   "metadata": {},
   "source": [
    "## 2. Image Properties\n",
    "\n",
    "Let's check what kind of images we're dealing with."
   ]
  },
  {
   "cell_type": "code",
   "execution_count": 29,
   "metadata": {},
   "outputs": [
    {
     "name": "stdout",
     "output_type": "stream",
     "text": [
      "Sample image properties:\n",
      "Image 1: Size (64, 64), Mode: RGB\n",
      "Image 2: Size (64, 64), Mode: RGB\n",
      "Image 3: Size (64, 64), Mode: RGB\n",
      "Image 4: Size (64, 64), Mode: RGB\n",
      "Image 5: Size (64, 64), Mode: RGB\n",
      "\n",
      "Test image channels: 3\n",
      "Test image size: (64, 64)\n"
     ]
    }
   ],
   "source": [
    "# Check a few random images for basic properties\n",
    "sample_paths = random.sample(train_img_path, 5)\n",
    "\n",
    "print(\"Sample image properties:\")\n",
    "for i, path in enumerate(sample_paths):\n",
    "    img = PIL.Image.open(path)\n",
    "    print(f\"Image {i+1}: Size {img.size}, Mode: {img.mode}\")\n",
    "\n",
    "# Check one specific image in detail\n",
    "test_image = PIL.Image.open(r\"C:\\Users\\felme\\Downloads\\ml_exercise_therapanacea\\data\\val_img\\000247.jpg\")\n",
    "num_channels = functional.get_image_num_channels(test_image)\n",
    "print(f\"\\nTest image channels: {num_channels}\")\n",
    "print(f\"Test image size: {test_image.size}\")"
   ]
  },
  {
   "cell_type": "markdown",
   "metadata": {},
   "source": [
    "## 3. Labels Analysis\n",
    "\n",
    "Now let's look at the labels and see what we're classifying."
   ]
  },
  {
   "cell_type": "code",
   "execution_count": 30,
   "metadata": {},
   "outputs": [
    {
     "name": "stdout",
     "output_type": "stream",
     "text": [
      "Label file info:\n",
      "Shape: (100000, 1)\n",
      "\n",
      "First few labels:\n",
      "   label\n",
      "0      1\n",
      "1      1\n",
      "2      1\n",
      "3      1\n",
      "4      1\n",
      "\n",
      "Last few labels:\n",
      "       label\n",
      "99995      1\n",
      "99996      1\n",
      "99997      1\n",
      "99998      1\n",
      "99999      1\n"
     ]
    }
   ],
   "source": [
    "# Read labels\n",
    "labels = pd.read_csv(r\"C:\\Users\\felme\\Downloads\\ml_exercise_therapanacea\\data\\label_train.txt\", \n",
    "                     sep=\"\\t\", header=None)\n",
    "labels.columns = [\"label\"]\n",
    "\n",
    "print(\"Label file info:\")\n",
    "print(f\"Shape: {labels.shape}\")\n",
    "print(f\"\\nFirst few labels:\")\n",
    "print(labels.head())\n",
    "print(f\"\\nLast few labels:\")\n",
    "print(labels.tail())"
   ]
  },
  {
   "cell_type": "code",
   "execution_count": 31,
   "metadata": {},
   "outputs": [
    {
     "name": "stdout",
     "output_type": "stream",
     "text": [
      "Label distribution:\n",
      "label\n",
      "0    12102\n",
      "1    87898\n",
      "Name: count, dtype: int64\n",
      "\n",
      "Class balance:\n",
      "Class 0: 12102 images (12.1%)\n",
      "Class 1: 87898 images (87.9%)\n"
     ]
    }
   ],
   "source": [
    "# Check label distribution\n",
    "print(\"Label distribution:\")\n",
    "label_counts = labels[\"label\"].value_counts().sort_index()\n",
    "print(label_counts)\n",
    "print(f\"\\nClass balance:\")\n",
    "for label, count in label_counts.items():\n",
    "    percentage = (count / len(labels)) * 100\n",
    "    print(f\"Class {label}: {count} images ({percentage:.1f}%)\")"
   ]
  },
  {
   "cell_type": "code",
   "execution_count": 32,
   "metadata": {},
   "outputs": [
    {
     "data": {
      "image/png": "[encoded data removed]",
      "text/plain": [
       "<Figure size 800x500 with 1 Axes>"
      ]
     },
     "metadata": {},
     "output_type": "display_data"
    }
   ],
   "source": [
    "# Visualize distribution\n",
    "plt.figure(figsize=(8, 5))\n",
    "labels[\"label\"].value_counts().sort_index().plot(kind=\"bar\", color=['skyblue', 'lightcoral'])\n",
    "plt.title(\"Class Distribution in Training Set\")\n",
    "plt.xlabel(\"Class Label\")\n",
    "plt.ylabel(\"Number of Images\")\n",
    "plt.xticks(rotation=0)\n",
    "plt.show()\n",
    "\n",
    "# This will tell us if we have class imbalance issues"
   ]
  },
  {
   "cell_type": "markdown",
   "metadata": {},
   "source": [
    "## 4. Image-Label Mapping Check\n",
    "\n",
    "This is crucial - need to make sure the image filenames match up with the label file correctly."
   ]
  },
  {
   "cell_type": "code",
   "execution_count": 33,
   "metadata": {},
   "outputs": [
    {
     "name": "stdout",
     "output_type": "stream",
     "text": [
      "Checking image-label mapping:\n",
      "First 10 mappings:\n",
      "Image: 000001.jpg (#1) -> Label: 1\n",
      "Image: 000002.jpg (#2) -> Label: 1\n",
      "Image: 000003.jpg (#3) -> Label: 1\n",
      "Image: 000004.jpg (#4) -> Label: 1\n",
      "Image: 000005.jpg (#5) -> Label: 1\n",
      "Image: 000006.jpg (#6) -> Label: 1\n",
      "Image: 000007.jpg (#7) -> Label: 1\n",
      "Image: 000008.jpg (#8) -> Label: 1\n",
      "Image: 000009.jpg (#9) -> Label: 1\n",
      "Image: 000010.jpg (#10) -> Label: 1\n",
      "\n",
      "Checking alignment...\n",
      "Image numbering matches label file order perfectly\n"
     ]
    }
   ],
   "source": [
    "# Sort paths to ensure proper order\n",
    "train_img_path_sorted = sorted(train_img_path, key=lambda x: int(os.path.basename(x).split('.')[0]))\n",
    "\n",
    "print(\"Checking image-label mapping:\")\n",
    "print(\"First 10 mappings:\")\n",
    "for i in range(10):\n",
    "    img_name = os.path.basename(train_img_path_sorted[i])\n",
    "    img_number = int(img_name.split('.')[0])\n",
    "    label = labels.iloc[i]['label']\n",
    "    print(f\"Image: {img_name} (#{img_number}) -> Label: {label}\")\n",
    "\n",
    "# Check if image numbers match their position in label file\n",
    "print(\"\\nChecking alignment...\")\n",
    "mismatches = 0\n",
    "for i in range(min(1000, len(train_img_path_sorted))):  # Check first 1000\n",
    "    img_name = os.path.basename(train_img_path_sorted[i])\n",
    "    img_number = int(img_name.split('.')[0])\n",
    "    expected_number = i + 1  # Images start from 000001.jpg\n",
    "    if img_number != expected_number:\n",
    "        mismatches += 1\n",
    "        if mismatches <= 5:  # Show first few mismatches\n",
    "            print(f\"Mismatch: {img_name} at position {i}, expected {expected_number:06d}.jpg\")\n",
    "\n",
    "if mismatches == 0:\n",
    "    print(\"Image numbering matches label file order perfectly\")\n",
    "else:\n",
    "    print(f\"Found {mismatches} mismatches in first 1000 images\")"
   ]
  },
  {
   "cell_type": "markdown",
   "metadata": {},
   "source": [
    "## 5. Visual Sample Exploration\n",
    "\n",
    "Let's look at some actual images to get a feel for the data."
   ]
  },
  {
   "cell_type": "code",
   "execution_count": null,
   "metadata": {},
   "outputs": [],
   "source": [
    "# Sample images from each class\n",
    "class_0_indices = labels[labels['label'] == 0].index[:5].tolist()\n",
    "class_1_indices = labels[labels['label'] == 1].index[:5].tolist()\n",
    "\n",
    "plt.figure(figsize=(15, 8))\n",
    "\n",
    "# Show Class 0 samples\n",
    "plt.suptitle(\"Sample Images by Class\", fontsize=16)\n",
    "for i, idx in enumerate(class_0_indices):\n",
    "    img_path = train_img_path_sorted[idx]\n",
    "    img = Image.open(img_path)\n",
    "    plt.subplot(2, 5, i+1)\n",
    "    plt.imshow(img)\n",
    "    plt.title(f\"Class 0\\n({os.path.basename(img_path)})\")\n",
    "    plt.axis('off')\n",
    "\n",
    "# Show Class 1 samples  \n",
    "for i, idx in enumerate(class_1_indices):\n",
    "    img_path = train_img_path_sorted[idx]\n",
    "    img = Image.open(img_path)\n",
    "    plt.subplot(2, 5, i+6)\n",
    "    plt.imshow(img)\n",
    "    plt.title(f\"Class 1\\n({os.path.basename(img_path)})\")\n",
    "    plt.axis('off')\n",
    "\n",
    "plt.tight_layout()\n",
    "plt.show()"
   ]
  },
  {
   "cell_type": "code",
   "execution_count": null,
   "metadata": {},
   "outputs": [],
   "source": [
    "# Random sample across all data\n",
    "sample_indices = random.sample(range(len(train_img_path_sorted)), 10)\n",
    "\n",
    "plt.figure(figsize=(15, 6))\n",
    "for i, idx in enumerate(sample_indices):\n",
    "    img_path = train_img_path_sorted[idx]\n",
    "    img = Image.open(img_path)\n",
    "    label = labels.iloc[idx]['label']\n",
    "    \n",
    "    plt.subplot(2, 5, i+1)\n",
    "    plt.imshow(img)\n",
    "    plt.title(f\"Class {label}\\n{os.path.basename(img_path)}\")\n",
    "    plt.axis('off')\n",
    "\n",
    "plt.suptitle(\"Random Sample from Dataset\", fontsize=16)\n",
    "plt.tight_layout()\n",
    "plt.show()"
   ]
  },
  {
   "cell_type": "markdown",
   "metadata": {},
   "source": [
    "## REMARKS\n",
    "\n",
    "Trainig data label are not labeled corretly! maybe it's meant to like like real world data!!"
   ]
  },
  {
   "cell_type": "markdown",
   "metadata": {},
   "source": [
    "## 6. Image Size Analysis\n",
    "\n",
    "Important to know what sizes we're dealing with for preprocessing."
   ]
  },
  {
   "cell_type": "code",
   "execution_count": 36,
   "metadata": {},
   "outputs": [
    {
     "name": "stdout",
     "output_type": "stream",
     "text": [
      "Image size analysis (sample of 100 images):\n",
      "Width - Min: 64, Max: 64, Mean: 64.0\n",
      "Height - Min: 64, Max: 64, Mean: 64.0\n",
      "\n",
      "Most common sizes:\n",
      "(64, 64): 100 images\n"
     ]
    }
   ],
   "source": [
    "# Check image sizes across a sample\n",
    "sample_size = 100\n",
    "sample_indices = random.sample(range(len(train_img_path_sorted)), sample_size)\n",
    "\n",
    "sizes = []\n",
    "for idx in sample_indices:\n",
    "    img_path = train_img_path_sorted[idx]\n",
    "    img = Image.open(img_path)\n",
    "    sizes.append(img.size)\n",
    "\n",
    "# Analyze sizes\n",
    "widths = [s[0] for s in sizes]\n",
    "heights = [s[1] for s in sizes]\n",
    "\n",
    "print(f\"Image size analysis (sample of {sample_size} images):\")\n",
    "print(f\"Width - Min: {min(widths)}, Max: {max(widths)}, Mean: {np.mean(widths):.1f}\")\n",
    "print(f\"Height - Min: {min(heights)}, Max: {max(heights)}, Mean: {np.mean(heights):.1f}\")\n",
    "print(f\"\\nMost common sizes:\")\n",
    "size_counts = {}\n",
    "for size in sizes:\n",
    "    size_counts[size] = size_counts.get(size, 0) + 1\n",
    "\n",
    "for size, count in sorted(size_counts.items(), key=lambda x: x[1], reverse=True)[:5]:\n",
    "    print(f\"{size}: {count} images\")"
   ]
  },
  {
   "cell_type": "code",
   "execution_count": 37,
   "metadata": {},
   "outputs": [
    {
     "data": {
      "image/png": "[encoded data removed]",
      "text/plain": [
       "<Figure size 1200x400 with 2 Axes>"
      ]
     },
     "metadata": {},
     "output_type": "display_data"
    }
   ],
   "source": [
    "# Visualize size distribution\n",
    "plt.figure(figsize=(12, 4))\n",
    "\n",
    "plt.subplot(1, 2, 1)\n",
    "plt.hist(widths, bins=20, alpha=0.7, color='skyblue')\n",
    "plt.title('Width Distribution')\n",
    "plt.xlabel('Width (pixels)')\n",
    "plt.ylabel('Count')\n",
    "\n",
    "plt.subplot(1, 2, 2)\n",
    "plt.hist(heights, bins=20, alpha=0.7, color='lightgreen')\n",
    "plt.title('Height Distribution')\n",
    "plt.xlabel('Height (pixels)')\n",
    "plt.ylabel('Count')\n",
    "\n",
    "plt.tight_layout()\n",
    "plt.show()"
   ]
  }
 ],
 "metadata": {
  "kernelspec": {
   "display_name": "pytorch3d",
   "language": "python",
   "name": "python3"
  },
  "language_info": {
   "codemirror_mode": {
    "name": "ipython",
    "version": 3
   },
   "file_extension": ".py",
   "mimetype": "text/x-python",
   "name": "python",
   "nbconvert_exporter": "python",
   "pygments_lexer": "ipython3",
   "version": "3.9.21"
  }
 },
 "nbformat": 4,
 "nbformat_minor": 4
}
